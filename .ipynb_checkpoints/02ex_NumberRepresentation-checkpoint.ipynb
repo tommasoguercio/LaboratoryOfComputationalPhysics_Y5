{
 "cells": [
  {
   "cell_type": "markdown",
   "metadata": {},
   "source": [
    "1\\. Write a function that converts number representation, bin<->dec<->hex. (Clearly using the corresponding python built-in functions is not fair..)"
   ]
  },
  {
   "cell_type": "code",
   "execution_count": 26,
   "metadata": {},
   "outputs": [
    {
     "name": "stdout",
     "output_type": "stream",
     "text": [
      "1011\n"
     ]
    }
   ],
   "source": [
    "def hexDigit(num):\n",
    "    if num < 10:\n",
    "        return num\n",
    "    elif num == 10:\n",
    "        return(\"A\")\n",
    "    elif num == 11:\n",
    "        return(\"B\")\n",
    "    elif num == 12:\n",
    "        return(\"C\")\n",
    "    elif num == 13:\n",
    "        return(\"D\")\n",
    "    elif num == 14:\n",
    "        return(\"E\")\n",
    "    elif num == 15:\n",
    "        return(\"F\")\n",
    "    \n",
    "def revHexDigit(num):\n",
    "    if num == \"A\":\n",
    "        return(10)\n",
    "    elif num == \"B\":\n",
    "        return(11)\n",
    "    elif num == \"C\":\n",
    "        return(12)\n",
    "    elif num == \"D\":\n",
    "        return(13)\n",
    "    elif num == \"E\":\n",
    "        return(14)\n",
    "    elif num == \"F\":\n",
    "        return(15)\n",
    "    elif int(num) < 10:\n",
    "        return int(num)\n",
    "    \n",
    "def decToHex(num):\n",
    "    numOut = []\n",
    "    if num == 0:\n",
    "        numOut.append(0)\n",
    "    while num >= 1:\n",
    "        numOut.insert(0, hexDigit(num % 16))\n",
    "        num //= 16\n",
    "    numOut = ''.join(str(d) for d in numOut)\n",
    "    return numOut\n",
    "        \n",
    "def decToBin(num):\n",
    "    numOut = []\n",
    "    if num == 0:\n",
    "        numOut.append(0)\n",
    "    while num >= 1:\n",
    "        numOut.insert(0, num % 2)\n",
    "        num //= 2\n",
    "    numOut = ''.join(str(d) for d in numOut)\n",
    "    return numOut\n",
    "    \n",
    "def binToDec(num):\n",
    "    numOut = 0\n",
    "    for id, i in enumerate(num):\n",
    "        numOut += int(i) * 2**(len(num) - id - 1)\n",
    "    return numOut\n",
    "\n",
    "def hexToDec(num):\n",
    "    numOut = 0\n",
    "    for id, i in enumerate(num):\n",
    "        numOut += int(revHexDigit(i)) * 16**(len(num) - id - 1)\n",
    "    return numOut\n",
    "\n",
    "def conv(num, BaseIn, BaseOut):\n",
    "    if BaseIn == \"dec\":\n",
    "        if BaseOut == \"bin\":\n",
    "            numOut = decToBin(num)\n",
    "        if BaseOut == \"hex\":\n",
    "            numOut = decToHex(num)\n",
    "    \n",
    "    if BaseIn == \"bin\":\n",
    "        num = str(num)\n",
    "        if BaseOut == \"dec\":\n",
    "            numOut = binToDec(num)\n",
    "        if BaseOut == \"hex\":\n",
    "            numOut = decToHex(binToDec(num))\n",
    "            \n",
    "    if BaseIn == \"hex\": #doesn't work\n",
    "        num = str(num)\n",
    "        if BaseOut == \"dec\":\n",
    "            numOut = hexToDec(num)\n",
    "        if BaseOut == \"bin\":\n",
    "            numOut = decToBin(hexToDec(num))\n",
    "            \n",
    "                \n",
    "    return numOut\n",
    "\n",
    "#use a string for hexadecimal\n",
    "a = \"B\"\n",
    "print(conv(a,\"hex\",\"bin\"))"
   ]
  },
  {
   "cell_type": "markdown",
   "metadata": {},
   "source": [
    "2\\. Write a function that converts a 32 bit word into a single precision floating point (i.e. interprets the various bits as sign, mantissa and exponent)"
   ]
  },
  {
   "cell_type": "code",
   "execution_count": 52,
   "metadata": {},
   "outputs": [
    {
     "name": "stdout",
     "output_type": "stream",
     "text": [
      "+inf\n"
     ]
    }
   ],
   "source": [
    "def float_conv(word):\n",
    "    \"\"\"Converts a 32 bit word into a single precision floating point\"\"\"\n",
    "    \n",
    "    bias = 0b1111111\n",
    "    mntMask = 0b00000000011111111111111111111111\n",
    "    expMask = 0b01111111100000000000000000000000\n",
    "    sgnMask = 0b10000000000000000000000000000000\n",
    "    \n",
    "    sgn = (sgnMask & word)>>31\n",
    "    exp = ((expMask & word)>>23) - bias\n",
    "    mnt = (mntMask & word)\n",
    "    \n",
    "    #special cases\n",
    "    if exp + bias == 255:\n",
    "        if mnt == 0:\n",
    "            if sgn == 0:\n",
    "                return(\"+inf\")\n",
    "            else: return(\"-inf\")\n",
    "        else: return(\"NaN\")\n",
    "    \n",
    "    #calculate mantissa\n",
    "    mntMaskLoop = 0b1\n",
    "    mntLoop = 0b1\n",
    "    for i in range(23):\n",
    "        mntLoop += ((mntMaskLoop & word)>>i) * 2**(-(23-i))\n",
    "        mntMaskLoop <<= 1\n",
    "    \n",
    "    wordOut = ((-1)**sgn)*mntLoop*2**exp\n",
    "    return(wordOut)\n",
    "\n",
    "word = 0b01111111100000000000000000000000\n",
    "\n",
    "print(float_conv(word))"
   ]
  },
  {
   "cell_type": "markdown",
   "metadata": {},
   "source": [
    "3\\. Write a program to determine the underflow and overflow limits (within a factor of 2) for python on your computer. \n",
    "\n",
    "**Tips**: define two variables inizialized to 1 and halve/double them enough time to exceed the under/over-flow limits  "
   ]
  },
  {
   "cell_type": "code",
   "execution_count": 94,
   "metadata": {},
   "outputs": [
    {
     "name": "stdout",
     "output_type": "stream",
     "text": [
      "Overflow limit: 8.98846567431158e+307\n",
      "Underflow limit: 5e-324\n"
     ]
    }
   ],
   "source": [
    "import math\n",
    "\n",
    "testOF = 1.\n",
    "while True:\n",
    "    testOF1 = testOF*2\n",
    "    if math.isinf(testOF1):\n",
    "        print(\"Overflow limit:\", testOF)\n",
    "        break\n",
    "    testOF = testOF1\n",
    "    \n",
    "testUF = 1.\n",
    "while True:\n",
    "    testUF1 = testUF/2\n",
    "    if testUF1 == 0.:\n",
    "        print(\"Underflow limit:\", testUF)\n",
    "        break\n",
    "    testUF = testUF1"
   ]
  },
  {
   "cell_type": "markdown",
   "metadata": {},
   "source": [
    "4\\. Write a program to determine the machine precision\n",
    "\n",
    "**Tips**: define a new variable by adding a smaller and smaller value (proceeding similarly to prob. 2) to an original variable and check the point where the two are the same "
   ]
  },
  {
   "cell_type": "code",
   "execution_count": 98,
   "metadata": {},
   "outputs": [
    {
     "name": "stdout",
     "output_type": "stream",
     "text": [
      "Machine precision: 1.1102230246251565e-16\n"
     ]
    }
   ],
   "source": [
    "testPrec = 1.\n",
    "i = 1.\n",
    "while testPrec != testPrec+i:\n",
    "    i /= 2\n",
    "\n",
    "print(\"Machine precision:\",i)"
   ]
  },
  {
   "cell_type": "markdown",
   "metadata": {},
   "source": [
    "5\\. Write a function that takes in input three parameters $a$, $b$ and $c$ and prints out the two solutions to the quadratic equation $ax^2+bx+c=0$ using the standard formula:\n",
    "$$\n",
    "x=\\frac{-b\\pm\\sqrt{b^2-4ac}}{2a}\n",
    "$$\n",
    "\n",
    "(a) use the program to compute the solution for $a=0.001$, $b=1000$ and $c=0.001$\n",
    "\n",
    "(b) re-express the standard solution formula by multiplying top and bottom by $-b\\mp\\sqrt{b^2-4ac}$ and again find the solution for $a=0.001$, $b=1000$ and $c=0.001$. How does it compare with what previously obtained? Why?\n",
    "\n",
    "(c) write a function that compute the roots of a quadratic equation accurately in all cases"
   ]
  },
  {
   "cell_type": "code",
   "execution_count": 22,
   "metadata": {},
   "outputs": [
    {
     "name": "stdout",
     "output_type": "stream",
     "text": [
      "(-9.999894245993346e-07, -999999.999999)\n",
      "(-1.000000000001e-06, -1000010.5755125057)\n",
      "(-1.000000000001e-06, -999999.999999)\n"
     ]
    }
   ],
   "source": [
    "def quadratic_a(a, b, c): #better x2 solution if b^2 >> 4ac\n",
    "    r = (b**2 - 4*a*c)**0.5\n",
    "    x1 = (-b + r) / (2*a)\n",
    "    x2 = (-b - r) / (2*a)\n",
    "    return(x1, x2)\n",
    "\n",
    "def quadratic_b(a, b, c): #better x1 solution if b^2 >> 4ac\n",
    "    r = (b**2 - 4*a*c)**0.5\n",
    "    x1 = (2*c) / (-b - r)\n",
    "    x2 = (2*c) / (-b + r)\n",
    "    return(x1, x2)\n",
    "\n",
    "def quadratic(a, b, c):\n",
    "    r = (b**2 - 4*a*c)**0.5\n",
    "    x1 = (2*c) / (-b - r)\n",
    "#     x2 = c / (x1*a)\n",
    "    x2 = (-b - r) / (2*a)\n",
    "    return(x1, x2)\n",
    "\n",
    "x1,x2=quadratic_a(0.001,1000,0.001)\n",
    "y1,y2=quadratic(0.001,1000,0.001)\n",
    "\n",
    "print(quadratic_a(0.001,1000,0.001))\n",
    "print(quadratic_b(0.001,1000,0.001))\n",
    "print(quadratic(0.001,1000,0.001))\n",
    "\n",
    "# print(0.001*x2**2+1000*x2+0.001)"
   ]
  },
  {
   "cell_type": "markdown",
   "metadata": {},
   "source": [
    "6\\. Write a program that implements the function $f(x)=x(x−1)$\n",
    "\n",
    "(a) Calculate the derivative of the function at the point $x = 1$ using the derivative definition:\n",
    "\n",
    "$$\n",
    "\\frac{{\\rm d}f}{{\\rm d}x} = \\lim_{\\delta\\to0} \\frac{f(x+\\delta)-f(x)}{\\delta}\n",
    "$$\n",
    "\n",
    "with $\\delta = 10^{−2}$. Calculate the true value of the same derivative analytically and compare with the answer your program gives. The two will not agree perfectly. Why not?\n",
    "\n",
    "(b) Repeat the calculation for $\\delta = 10^{−4}, 10^{−6}, 10^{−8}, 10^{−10}, 10^{−12}$ and $10^{−14}$. How does the accuracy scales with $\\delta$?"
   ]
  },
  {
   "cell_type": "code",
   "execution_count": 50,
   "metadata": {},
   "outputs": [
    {
     "name": "stdout",
     "output_type": "stream",
     "text": [
      "True value of f'(1): 1\n",
      "Values computed numericalli:\n",
      "delta\tf'(1)\n",
      "0.01\t1.010000000000001\n",
      "0.0001\t1.0000999999998899\n",
      "1e-06\t1.0000009999177333\n",
      "1e-08\t1.0000000039225287\n",
      "1e-10\t1.000000082840371\n",
      "1e-12\t1.0000889005833413\n",
      "1e-14\t0.9992007221626509\n"
     ]
    },
    {
     "data": {
      "text/plain": [
       "<function matplotlib.pyplot.show(close=None, block=None)>"
      ]
     },
     "execution_count": 50,
     "metadata": {},
     "output_type": "execute_result"
    },
    {
     "data": {
      "image/png": "[encoded data removed]",
      "text/plain": [
       "<Figure size 432x288 with 1 Axes>"
      ]
     },
     "metadata": {
      "needs_background": "light"
     },
     "output_type": "display_data"
    }
   ],
   "source": [
    "# f(x)  = x(x - 1)\n",
    "# f'(x) = 2x - 1\n",
    "# f'(1) = 1\n",
    "\n",
    "def f(x):\n",
    "    return x*(x-1)\n",
    "\n",
    "def der(x0, delta):\n",
    "    return (f(x0 + delta) - f(x0))/delta\n",
    "\n",
    "print(\"True value of f'(1): 1\")\n",
    "print(\"Values computed numericalli:\")\n",
    "print(\"delta\\tf'(1)\")\n",
    "x = [10**-i for i in range(2,15,2)]\n",
    "y = [der(1,x0) for x0 in x]\n",
    "\n",
    "for i in range(len(x)):\n",
    "    print(x[i],y[i],sep=\"\\t\")\n",
    "    \n",
    "import matplotlib.pyplot as plt\n",
    "import numpy as np\n",
    "\n",
    "plt.plot(x,np.abs(np.array(y)-1))\n",
    "plt.xscale(\"log\")\n",
    "plt.yscale(\"log\")\n",
    "plt.ylabel(\"accuracy\")\n",
    "plt.xlabel(\"delta\")\n",
    "plt.show\n",
    "#there's a max accuracy for delta = 10^-8"
   ]
  },
  {
   "cell_type": "markdown",
   "metadata": {},
   "source": [
    "7\\. Consider the integral of the semicircle of radius 1:\n",
    "$$\n",
    "I=\\int_{-1}^{1} \\sqrt(1-x^2) {\\rm d}x\n",
    "$$\n",
    "which it's known to be $I=\\frac{\\pi}{2}=1.57079632679...$.\n",
    "Alternatively we can use the Riemann definition of the integral:\n",
    "$$\n",
    "I=\\lim_{N\\to\\infty} \\sum_{k=1}^{N} h y_k \n",
    "$$\n",
    "\n",
    "with $h=2/N$ the width of each of the $N$ slices the domain is divided into and where\n",
    "$y_k$ is the value of the function at the $k-$th slice.\n",
    "\n",
    "(a) Write a programe to compute the integral with $N=100$. How does the result compares to the true value?\n",
    "\n",
    "(b) How much can $N$ be increased if the computation needs to be run in less than a second? What is the gain in running it for 1 minute? \n"
   ]
  },
  {
   "cell_type": "code",
   "execution_count": 65,
   "metadata": {},
   "outputs": [
    {
     "name": "stdout",
     "output_type": "stream",
     "text": [
      "True result of I: 1.5707963267948966\n",
      "Result computed numerically: 1.5707963251319348\n"
     ]
    }
   ],
   "source": [
    "import math\n",
    "\n",
    "def f(x):\n",
    "    return (1 - x**2)**0.5\n",
    "\n",
    "def riemann(N):\n",
    "    h = 2/N\n",
    "    I = 0\n",
    "    for k in range(N):\n",
    "        I += f(k*h-1)\n",
    "    I *= h\n",
    "    return(I)\n",
    "\n",
    "print(\"True result of I:\",math.pi/2)\n",
    "print(\"Result computed numerically:\",riemann(1000000))\n",
    "# if N = 2'400'000 the execution time is ~1.02 s"
   ]
  },
  {
   "cell_type": "code",
   "execution_count": 76,
   "metadata": {},
   "outputs": [
    {
     "name": "stdout",
     "output_type": "stream",
     "text": [
      "1.02 s ± 68.5 ms per loop (mean ± std. dev. of 7 runs, 1 loop each)\n"
     ]
    }
   ],
   "source": [
    "%timeit riemann(2400000)"
   ]
  },
  {
   "cell_type": "code",
   "execution_count": null,
   "metadata": {},
   "outputs": [],
   "source": []
  }
 ],
 "metadata": {
  "kernelspec": {
   "display_name": "Python 3 (ipykernel)",
   "language": "python",
   "name": "python3"
  },
  "language_info": {
   "codemirror_mode": {
    "name": "ipython",
    "version": 3
   },
   "file_extension": ".py",
   "mimetype": "text/x-python",
   "name": "python",
   "nbconvert_exporter": "python",
   "pygments_lexer": "ipython3",
   "version": "3.9.12"
  }
 },
 "nbformat": 4,
 "nbformat_minor": 2
}
