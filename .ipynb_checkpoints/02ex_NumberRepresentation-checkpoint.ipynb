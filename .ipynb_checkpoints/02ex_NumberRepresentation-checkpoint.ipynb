{
 "cells": [
  {
   "cell_type": "markdown",
   "metadata": {},
   "source": [
    "1\\. Write a function that converts number representation, bin<->dec<->hex. (Clearly using the corresponding python built-in functions is not fair..)"
   ]
  },
  {
   "cell_type": "code",
   "execution_count": 26,
   "metadata": {},
   "outputs": [
    {
     "name": "stdout",
     "output_type": "stream",
     "text": [
      "1011\n"
     ]
    }
   ],
   "source": [
    "def hexDigit(num):\n",
    "    if num < 10:\n",
    "        return num\n",
    "    elif num == 10:\n",
    "        return(\"A\")\n",
    "    elif num == 11:\n",
    "        return(\"B\")\n",
    "    elif num == 12:\n",
    "        return(\"C\")\n",
    "    elif num == 13:\n",
    "        return(\"D\")\n",
    "    elif num == 14:\n",
    "        return(\"E\")\n",
    "    elif num == 15:\n",
    "        return(\"F\")\n",
    "    \n",
    "def revHexDigit(num):\n",
    "    if num == \"A\":\n",
    "        return(10)\n",
    "    elif num == \"B\":\n",
    "        return(11)\n",
    "    elif num == \"C\":\n",
    "        return(12)\n",
    "    elif num == \"D\":\n",
    "        return(13)\n",
    "    elif num == \"E\":\n",
    "        return(14)\n",
    "    elif num == \"F\":\n",
    "        return(15)\n",
    "    elif int(num) < 10:\n",
    "        return int(num)\n",
    "    \n",
    "def decToHex(num):\n",
    "    numOut = []\n",
    "    if num == 0:\n",
    "        numOut.append(0)\n",
    "    while num >= 1:\n",
    "        numOut.insert(0, hexDigit(num % 16))\n",
    "        num //= 16\n",
    "    numOut = ''.join(str(d) for d in numOut)\n",
    "    return numOut\n",
    "        \n",
    "def decToBin(num):\n",
    "    numOut = []\n",
    "    if num == 0:\n",
    "        numOut.append(0)\n",
    "    while num >= 1:\n",
    "        numOut.insert(0, num % 2)\n",
    "        num //= 2\n",
    "    numOut = ''.join(str(d) for d in numOut)\n",
    "    return numOut\n",
    "    \n",
    "def binToDec(num):\n",
    "    numOut = 0\n",
    "    for id, i in enumerate(num):\n",
    "        numOut += int(i) * 2**(len(num) - id - 1)\n",
    "    return numOut\n",
    "\n",
    "def hexToDec(num):\n",
    "    numOut = 0\n",
    "    for id, i in enumerate(num):\n",
    "        numOut += int(revHexDigit(i)) * 16**(len(num) - id - 1)\n",
    "    return numOut\n",
    "\n",
    "def conv(num, BaseIn, BaseOut):\n",
    "    if BaseIn == \"dec\":\n",
    "        if BaseOut == \"bin\":\n",
    "            numOut = decToBin(num)\n",
    "        if BaseOut == \"hex\":\n",
    "            numOut = decToHex(num)\n",
    "    \n",
    "    if BaseIn == \"bin\":\n",
    "        num = str(num)\n",
    "        if BaseOut == \"dec\":\n",
    "            numOut = binToDec(num)\n",
    "        if BaseOut == \"hex\":\n",
    "            numOut = decToHex(binToDec(num))\n",
    "            \n",
    "    if BaseIn == \"hex\": #doesn't work\n",
    "        num = str(num)\n",
    "        if BaseOut == \"dec\":\n",
    "            numOut = hexToDec(num)\n",
    "        if BaseOut == \"bin\":\n",
    "            numOut = decToBin(hexToDec(num))\n",
    "            \n",
    "                \n",
    "    return numOut\n",
    "\n",
    "#use a string for hexadecimal\n",
    "a = \"B\"\n",
    "print(conv(a,\"hex\",\"bin\"))"
   ]
  },
  {
   "cell_type": "markdown",
   "metadata": {},
   "source": [
    "2\\. Write a function that converts a 32 bit word into a single precision floating point (i.e. interprets the various bits as sign, mantissa and exponent)"
   ]
  },
  {
   "cell_type": "code",
   "execution_count": 52,
   "metadata": {},
   "outputs": [
    {
     "name": "stdout",
     "output_type": "stream",
     "text": [
      "+inf\n"
     ]
    }
   ],
   "source": [
    "def float_conv(word):\n",
    "    \"\"\"Converts a 32 bit word into a single precision floating point\"\"\"\n",
    "    \n",
    "    bias = 0b1111111\n",
    "    mntMask = 0b00000000011111111111111111111111\n",
    "    expMask = 0b01111111100000000000000000000000\n",
    "    sgnMask = 0b10000000000000000000000000000000\n",
    "    \n",
    "    sgn = (sgnMask & word)>>31\n",
    "    exp = ((expMask & word)>>23) - bias\n",
    "    mnt = (mntMask & word)\n",
    "    \n",
    "    #special cases\n",
    "    if exp + bias == 255:\n",
    "        if mnt == 0:\n",
    "            if sgn == 0:\n",
    "                return(\"+inf\")\n",
    "            else: return(\"-inf\")\n",
    "        else: return(\"NaN\")\n",
    "    \n",
    "    #calculate mantissa\n",
    "    mntMaskLoop = 0b1\n",
    "    mntLoop = 0b1\n",
    "    for i in range(23):\n",
    "        mntLoop += ((mntMaskLoop & word)>>i) * 2**(-(23-i))\n",
    "        mntMaskLoop <<= 1\n",
    "    \n",
    "    wordOut = ((-1)**sgn)*mntLoop*2**exp\n",
    "    return(wordOut)\n",
    "\n",
    "word = 0b01111111100000000000000000000000\n",
    "\n",
    "print(float_conv(word))"
   ]
  },
  {
   "cell_type": "markdown",
   "metadata": {},
   "source": [
    "3\\. Write a program to determine the underflow and overflow limits (within a factor of 2) for python on your computer. \n",
    "\n",
    "**Tips**: define two variables inizialized to 1 and halve/double them enough time to exceed the under/over-flow limits  "
   ]
  },
  {
   "cell_type": "code",
   "execution_count": 94,
   "metadata": {},
   "outputs": [
    {
     "name": "stdout",
     "output_type": "stream",
     "text": [
      "Overflow limit: 8.98846567431158e+307\n",
      "Underflow limit: 5e-324\n"
     ]
    }
   ],
   "source": [
    "import math\n",
    "\n",
    "testOF = 1.\n",
    "while True:\n",
    "    testOF1 = testOF*2\n",
    "    if math.isinf(testOF1):\n",
    "        print(\"Overflow limit:\", testOF)\n",
    "        break\n",
    "    testOF = testOF1\n",
    "    \n",
    "testUF = 1.\n",
    "while True:\n",
    "    testUF1 = testUF/2\n",
    "    if testUF1 == 0.:\n",
    "        print(\"Underflow limit:\", testUF)\n",
    "        break\n",
    "    testUF = testUF1"
   ]
  },
  {
   "cell_type": "markdown",
   "metadata": {},
   "source": [
    "4\\. Write a program to determine the machine precision\n",
    "\n",
    "**Tips**: define a new variable by adding a smaller and smaller value (proceeding similarly to prob. 2) to an original variable and check the point where the two are the same "
   ]
  },
  {
   "cell_type": "code",
   "execution_count": 98,
   "metadata": {},
   "outputs": [
    {
     "name": "stdout",
     "output_type": "stream",
     "text": [
      "Machine precision: 1.1102230246251565e-16\n"
     ]
    }
   ],
   "source": [
    "testPrec = 1.\n",
    "i = 1.\n",
    "while testPrec != testPrec+i:\n",
    "    i /= 2\n",
    "\n",
    "print(\"Machine precision:\",i)"
   ]
  },
  {
   "cell_type": "markdown",
   "metadata": {},
   "source": [
    "5\\. Write a function that takes in input three parameters $a$, $b$ and $c$ and prints out the two solutions to the quadratic equation $ax^2+bx+c=0$ using the standard formula:\n",
    "$$\n",
    "x=\\frac{-b\\pm\\sqrt{b^2-4ac}}{2a}\n",
    "$$\n",
    "\n",
    "(a) use the program to compute the solution for $a=0.001$, $b=1000$ and $c=0.001$\n",
    "\n",
    "(b) re-express the standard solution formula by multiplying top and bottom by $-b\\mp\\sqrt{b^2-4ac}$ and again find the solution for $a=0.001$, $b=1000$ and $c=0.001$. How does it compare with what previously obtained? Why?\n",
    "\n",
    "(c) write a function that compute the roots of a quadratic equation accurately in all cases"
   ]
  },
  {
   "cell_type": "markdown",
   "metadata": {},
   "source": [
    "6\\. Write a program that implements the function $f(x)=x(x−1)$\n",
    "\n",
    "(a) Calculate the derivative of the function at the point $x = 1$ using the derivative definition:\n",
    "\n",
    "$$\n",
    "\\frac{{\\rm d}f}{{\\rm d}x} = \\lim_{\\delta\\to0} \\frac{f(x+\\delta)-f(x)}{\\delta}\n",
    "$$\n",
    "\n",
    "with $\\delta = 10^{−2}$. Calculate the true value of the same derivative analytically and compare with the answer your program gives. The two will not agree perfectly. Why not?\n",
    "\n",
    "(b) Repeat the calculation for $\\delta = 10^{−4}, 10^{−6}, 10^{−8}, 10^{−10}, 10^{−12}$ and $10^{−14}$. How does the accuracy scales with $\\delta$?"
   ]
  },
  {
   "cell_type": "markdown",
   "metadata": {},
   "source": [
    "7\\. Consider the integral of the semicircle of radius 1:\n",
    "$$\n",
    "I=\\int_{-1}^{1} \\sqrt(1-x^2) {\\rm d}x\n",
    "$$\n",
    "which it's known to be $I=\\frac{\\pi}{2}=1.57079632679...$.\n",
    "Alternatively we can use the Riemann definition of the integral:\n",
    "$$\n",
    "I=\\lim_{N\\to\\infty} \\sum_{k=1}^{N} h y_k \n",
    "$$\n",
    "\n",
    "with $h=2/N$ the width of each of the $N$ slices the domain is divided into and where\n",
    "$y_k$ is the value of the function at the $k-$th slice.\n",
    "\n",
    "(a) Write a programe to compute the integral with $N=100$. How does the result compares to the true value?\n",
    "\n",
    "(b) How much can $N$ be increased if the computation needs to be run in less than a second? What is the gain in running it for 1 minute? \n"
   ]
  },
  {
   "cell_type": "code",
   "execution_count": null,
   "metadata": {},
   "outputs": [],
   "source": []
  }
 ],
 "metadata": {
  "kernelspec": {
   "display_name": "Python 3 (ipykernel)",
   "language": "python",
   "name": "python3"
  },
  "language_info": {
   "codemirror_mode": {
    "name": "ipython",
    "version": 3
   },
   "file_extension": ".py",
   "mimetype": "text/x-python",
   "name": "python",
   "nbconvert_exporter": "python",
   "pygments_lexer": "ipython3",
   "version": "3.9.12"
  }
 },
 "nbformat": 4,
 "nbformat_minor": 2
}
