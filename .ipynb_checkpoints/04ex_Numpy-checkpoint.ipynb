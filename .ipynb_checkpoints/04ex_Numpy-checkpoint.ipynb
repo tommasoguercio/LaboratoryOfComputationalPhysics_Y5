{
 "cells": [
  {
   "cell_type": "markdown",
   "metadata": {},
   "source": [
    "### Numpy basics"
   ]
  },
  {
   "cell_type": "markdown",
   "metadata": {},
   "source": [
    "1\\. Find the row, column and overall means for the following matrix:\n",
    "\n",
    "```python\n",
    "m = np.arange(12).reshape((3,4))\n",
    "```"
   ]
  },
  {
   "cell_type": "code",
   "execution_count": 1,
   "metadata": {
    "scrolled": false
   },
   "outputs": [
    {
     "name": "stdout",
     "output_type": "stream",
     "text": [
      "Row means: [1.5 5.5 9.5]\n",
      "Column means: [4. 5. 6. 7.]\n",
      "Overall mean: 5.5\n"
     ]
    }
   ],
   "source": [
    "import numpy as np\n",
    "\n",
    "m = np.arange(12).reshape((3,4))\n",
    "\n",
    "print(\"Row means:\",np.mean(m, axis=1))\n",
    "print(\"Column means:\",np.mean(m, axis=0))\n",
    "print(\"Overall mean:\",np.mean(m))"
   ]
  },
  {
   "cell_type": "markdown",
   "metadata": {},
   "source": [
    "2\\. Find the outer product of the following two vecotrs\n",
    "\n",
    "```python\n",
    "u = np.array([1,3,5,7])\n",
    "v = np.array([2,4,6,8])\n",
    "```\n",
    "\n",
    "Do this in the following ways:\n",
    "\n",
    "   * Using the function outer in numpy\n",
    "   * Using a nested for loop or list comprehension\n",
    "   * Using numpy broadcasting operatoins\n"
   ]
  },
  {
   "cell_type": "code",
   "execution_count": 3,
   "metadata": {},
   "outputs": [
    {
     "name": "stdout",
     "output_type": "stream",
     "text": [
      "[[ 2  4  6  8]\n",
      " [ 6 12 18 24]\n",
      " [10 20 30 40]\n",
      " [14 28 42 56]]\n",
      "[[ 2  4  6  8]\n",
      " [ 6 12 18 24]\n",
      " [10 20 30 40]\n",
      " [14 28 42 56]]\n",
      "[[ 2  4  6  8]\n",
      " [ 6 12 18 24]\n",
      " [10 20 30 40]\n",
      " [14 28 42 56]]\n"
     ]
    },
    {
     "data": {
      "text/plain": [
       "array([[1],\n",
       "       [3],\n",
       "       [5],\n",
       "       [7]])"
      ]
     },
     "execution_count": 3,
     "metadata": {},
     "output_type": "execute_result"
    }
   ],
   "source": [
    "u = np.array([1,3,5,7])\n",
    "v = np.array([2,4,6,8])\n",
    "\n",
    "# function outer in numpy\n",
    "print(np.outer(u,v))\n",
    "\n",
    "# list comprehension\n",
    "print(np.array([[i*j for i in v] for j in u]))\n",
    "\n",
    "# numpy broadcasting operatoins\n",
    "print(np.tile(v,(len(v),1)) * u.reshape((-1,1)))"
   ]
  },
  {
   "cell_type": "markdown",
   "metadata": {},
   "source": [
    "3\\. Create a 10 by 6 matrix of random uniform numbers. Set all rows with any entry less than 0.1 to be zero\n",
    "\n",
    "Hint: Use the following numpy functions - np.random.random, np.any as well as Boolean indexing and the axis argument."
   ]
  },
  {
   "cell_type": "code",
   "execution_count": 149,
   "metadata": {
    "scrolled": true
   },
   "outputs": [
    {
     "name": "stdout",
     "output_type": "stream",
     "text": [
      "[[0.1245969  0.28553197 0.92686347 0.74228296 0.90649513 0.84572488]\n",
      " [0.         0.         0.         0.         0.         0.        ]\n",
      " [0.72793163 0.54725372 0.44548979 0.41994703 0.92322338 0.13530122]\n",
      " [0.71367367 0.48677523 0.94052452 0.25823499 0.3916022  0.32150687]\n",
      " [0.         0.         0.         0.         0.         0.        ]\n",
      " [0.         0.         0.         0.         0.         0.        ]\n",
      " [0.         0.         0.         0.         0.         0.        ]\n",
      " [0.94532205 0.53258954 0.93352958 0.15784051 0.38814443 0.46059586]\n",
      " [0.         0.         0.         0.         0.         0.        ]\n",
      " [0.         0.         0.         0.         0.         0.        ]]\n"
     ]
    }
   ],
   "source": [
    "m = np.array([[np.random.random() for i in range(6)] for j in range(10)])\n",
    "\n",
    "mask = np.any(m, axis=1, where= m<0.1)\n",
    "\n",
    "m[mask,:] = 0\n",
    "\n",
    "print(m)"
   ]
  },
  {
   "cell_type": "markdown",
   "metadata": {},
   "source": [
    "4\\. Use np.linspace to create an array of 100 numbers between 0 and 2π (includsive).\n",
    "\n",
    "  * Extract every 10th element using slice notation\n",
    "  * Reverse the array using slice notation\n",
    "  * Extract elements where the absolute difference between the sine and cosine functions evaluated at that element is less than 0.1\n",
    "  * Make a plot showing the sin and cos functions and indicate where they are close"
   ]
  },
  {
   "cell_type": "code",
   "execution_count": 6,
   "metadata": {},
   "outputs": [
    {
     "name": "stdout",
     "output_type": "stream",
     "text": [
      "0.0\n",
      "[0.         0.63466518 1.26933037 1.90399555 2.53866073 3.17332591\n",
      " 3.8079911  4.44265628 5.07732146 5.71198664]\n",
      "[6.28318531 6.21971879 6.15625227 6.09278575 6.02931923 5.96585272\n",
      " 5.9023862  5.83891968 5.77545316 5.71198664 5.64852012 5.58505361\n",
      " 5.52158709 5.45812057 5.39465405 5.33118753 5.26772102 5.2042545\n",
      " 5.14078798 5.07732146 5.01385494 4.95038842 4.88692191 4.82345539\n",
      " 4.75998887 4.69652235 4.63305583 4.56958931 4.5061228  4.44265628\n",
      " 4.37918976 4.31572324 4.25225672 4.1887902  4.12532369 4.06185717\n",
      " 3.99839065 3.93492413 3.87145761 3.8079911  3.74452458 3.68105806\n",
      " 3.61759154 3.55412502 3.4906585  3.42719199 3.36372547 3.30025895\n",
      " 3.23679243 3.17332591 3.10985939 3.04639288 2.98292636 2.91945984\n",
      " 2.85599332 2.7925268  2.72906028 2.66559377 2.60212725 2.53866073\n",
      " 2.47519421 2.41172769 2.34826118 2.28479466 2.22132814 2.15786162\n",
      " 2.0943951  2.03092858 1.96746207 1.90399555 1.84052903 1.77706251\n",
      " 1.71359599 1.65012947 1.58666296 1.52319644 1.45972992 1.3962634\n",
      " 1.33279688 1.26933037 1.20586385 1.14239733 1.07893081 1.01546429\n",
      " 0.95199777 0.88853126 0.82506474 0.76159822 0.6981317  0.63466518\n",
      " 0.57119866 0.50773215 0.44426563 0.38079911 0.31733259 0.25386607\n",
      " 0.19039955 0.12693304 0.06346652 0.        ]\n",
      "[0.76159822 0.82506474 3.87145761 3.93492413]\n"
     ]
    },
    {
     "data": {
      "text/plain": [
       "[<matplotlib.lines.Line2D at 0x1b72c30f0a0>]"
      ]
     },
     "execution_count": 6,
     "metadata": {},
     "output_type": "execute_result"
    },
    {
     "data": {
      "image/png": "[encoded data removed]",
      "text/plain": [
       "<Figure size 432x288 with 1 Axes>"
      ]
     },
     "metadata": {
      "needs_background": "light"
     },
     "output_type": "display_data"
    }
   ],
   "source": [
    "import math\n",
    "import matplotlib.pyplot as plt\n",
    "\n",
    "a = np.linspace(0, 2*math.pi, num=100)\n",
    "print(a[::10])\n",
    "print(a[::-1])\n",
    "mask = np.abs(np.sin(a) - np.cos(a)) < 0.1\n",
    "print(a[mask])\n",
    "\n",
    "plt.plot(a, np.sin(a))\n",
    "plt.plot(a, np.cos(a))\n",
    "plt.plot(a[mask], np.sin(a[mask]), 'o')\n",
    "plt.plot(a[mask], np.cos(a[mask]), 'o')"
   ]
  },
  {
   "cell_type": "markdown",
   "metadata": {},
   "source": [
    "5\\. Create a matrix that shows the 10 by 10 multiplication table.\n",
    "\n",
    " * Find the trace of the matrix\n",
    " * Extract the anto-diagonal (this should be ```array([10, 18, 24, 28, 30, 30, 28, 24, 18, 10])```)\n",
    " * Extract the diagnoal offset by 1 upwards (this should be ```array([ 2,  6, 12, 20, 30, 42, 56, 72, 90])```)"
   ]
  },
  {
   "cell_type": "code",
   "execution_count": 51,
   "metadata": {},
   "outputs": [
    {
     "name": "stdout",
     "output_type": "stream",
     "text": [
      "[[  1   2   3   4   5   6   7   8   9  10]\n",
      " [  2   4   6   8  10  12  14  16  18  20]\n",
      " [  3   6   9  12  15  18  21  24  27  30]\n",
      " [  4   8  12  16  20  24  28  32  36  40]\n",
      " [  5  10  15  20  25  30  35  40  45  50]\n",
      " [  6  12  18  24  30  36  42  48  54  60]\n",
      " [  7  14  21  28  35  42  49  56  63  70]\n",
      " [  8  16  24  32  40  48  56  64  72  80]\n",
      " [  9  18  27  36  45  54  63  72  81  90]\n",
      " [ 10  20  30  40  50  60  70  80  90 100]]\n",
      "385\n",
      "[10 18 24 28 30 30 28 24 18 10]\n",
      "[ 2  6 12 20 30 42 56 72 90]\n"
     ]
    }
   ],
   "source": [
    "m = np.array([[i*j for i in range(1,11)] for j in range(1,11)])\n",
    "print(m)\n",
    "print(np.trace(m))\n",
    "print(np.diag(m[::-1,:]))\n",
    "print(np.diag(m[:-1,1:]))"
   ]
  },
  {
   "cell_type": "markdown",
   "metadata": {},
   "source": [
    "6\\. Use broadcasting to create a grid of distances\n",
    "\n",
    "Route 66 crosses the following cities in the US: Chicago, Springfield, Saint-Louis, Tulsa, Oklahoma City, Amarillo, Santa Fe, Albuquerque, Flagstaff, Los Angeles\n",
    "The corresponding positions in miles are: 0, 198, 303, 736, 871, 1175, 1475, 1544, 1913, 2448\n",
    "\n",
    "  * Construct a 2D grid of distances among each city along Route 66\n",
    "  * Convert that in km (those savages...)"
   ]
  },
  {
   "cell_type": "code",
   "execution_count": 61,
   "metadata": {},
   "outputs": [
    {
     "name": "stdout",
     "output_type": "stream",
     "text": [
      "[[   0    0    0    0    0    0    0    0    0    0]\n",
      " [ 198  198  198  198  198  198  198  198  198  198]\n",
      " [ 303  303  303  303  303  303  303  303  303  303]\n",
      " [ 736  736  736  736  736  736  736  736  736  736]\n",
      " [ 871  871  871  871  871  871  871  871  871  871]\n",
      " [1175 1175 1175 1175 1175 1175 1175 1175 1175 1175]\n",
      " [1475 1475 1475 1475 1475 1475 1475 1475 1475 1475]\n",
      " [1544 1544 1544 1544 1544 1544 1544 1544 1544 1544]\n",
      " [1913 1913 1913 1913 1913 1913 1913 1913 1913 1913]\n",
      " [2448 2448 2448 2448 2448 2448 2448 2448 2448 2448]]\n",
      "[[   0  198  303  736  871 1175 1475 1544 1913 2448]\n",
      " [ 198    0  105  538  673  977 1277 1346 1715 2250]\n",
      " [ 303  105    0  433  568  872 1172 1241 1610 2145]\n",
      " [ 736  538  433    0  135  439  739  808 1177 1712]\n",
      " [ 871  673  568  135    0  304  604  673 1042 1577]\n",
      " [1175  977  872  439  304    0  300  369  738 1273]\n",
      " [1475 1277 1172  739  604  300    0   69  438  973]\n",
      " [1544 1346 1241  808  673  369   69    0  369  904]\n",
      " [1913 1715 1610 1177 1042  738  438  369    0  535]\n",
      " [2448 2250 2145 1712 1577 1273  973  904  535    0]]\n",
      "[[   0.       318.64932  487.63002 1184.47424 1401.73514 1890.9745\n",
      "  2373.7765  2484.82096 3078.66742 3939.66432]\n",
      " [ 318.64932    0.       168.9807   865.82492 1083.08582 1572.32518\n",
      "  2055.12718 2166.17164 2760.0181  3621.015  ]\n",
      " [ 487.63002  168.9807     0.       696.84422  914.10512 1403.34448\n",
      "  1886.14648 1997.19094 2591.0374  3452.0343 ]\n",
      " [1184.47424  865.82492  696.84422    0.       217.2609   706.50026\n",
      "  1189.30226 1300.34672 1894.19318 2755.19008]\n",
      " [1401.73514 1083.08582  914.10512  217.2609     0.       489.23936\n",
      "   972.04136 1083.08582 1676.93228 2537.92918]\n",
      " [1890.9745  1572.32518 1403.34448  706.50026  489.23936    0.\n",
      "   482.802    593.84646 1187.69292 2048.68982]\n",
      " [2373.7765  2055.12718 1886.14648 1189.30226  972.04136  482.802\n",
      "     0.       111.04446  704.89092 1565.88782]\n",
      " [2484.82096 2166.17164 1997.19094 1300.34672 1083.08582  593.84646\n",
      "   111.04446    0.       593.84646 1454.84336]\n",
      " [3078.66742 2760.0181  2591.0374  1894.19318 1676.93228 1187.69292\n",
      "   704.89092  593.84646    0.       860.9969 ]\n",
      " [3939.66432 3621.015   3452.0343  2755.19008 2537.92918 2048.68982\n",
      "  1565.88782 1454.84336  860.9969     0.     ]]\n"
     ]
    }
   ],
   "source": [
    "p = [0, 198, 303, 736, 871, 1175, 1475, 1544, 1913, 2448]\n",
    "d = np.tile(np.array(p), (len(p), 1)).T\n",
    "print(d)\n",
    "print(np.abs(d-p))\n",
    "print(1.60934*np.abs(d-p))"
   ]
  },
  {
   "cell_type": "markdown",
   "metadata": {},
   "source": [
    "7\\. Prime numbers sieve: compute the prime numbers in the 0-N (N=99 to start with) range with a sieve (mask).\n",
    "  * Constract a shape (100,) boolean array, the mask\n",
    "  * Identify the multiples of each number starting from 2 and set accordingly the corresponding mask element\n",
    "  * Apply the mask to obtain an array of ordered prime numbers\n",
    "  * Check the performances (timeit); how does it scale with N?\n",
    "  * Implement the optimization suggested in the [sieve of Eratosthenes](https://en.wikipedia.org/wiki/Sieve_of_Eratosthenes)"
   ]
  },
  {
   "cell_type": "code",
   "execution_count": 55,
   "metadata": {},
   "outputs": [
    {
     "name": "stdout",
     "output_type": "stream",
     "text": [
      "[ 0  1  2  3  5  7 11 13 17 19 23 29 31 37 41 43 47 53 59 61 67 71 73 79\n",
      " 83 89 97]\n",
      "[ 0  1  2  3  5  7 11 13 17 19 23 29 31 37 41 43 47 53 59 61 67 71 73 79\n",
      " 83 89 97]\n",
      "[ 0  1  2  3  5  7 11 13 17 19 23 29 31 37 41 43 47 53 59 61 67 71 73 79\n",
      " 83 89 97]\n",
      "501 µs ± 13.5 µs per loop (mean ± std. dev. of 7 runs, 1,000 loops each)\n",
      "38.6 µs ± 2.47 µs per loop (mean ± std. dev. of 7 runs, 10,000 loops each)\n",
      "9.05 µs ± 84.1 ns per loop (mean ± std. dev. of 7 runs, 100,000 loops each)\n"
     ]
    }
   ],
   "source": [
    "def myPrime(n):\n",
    "    num = np.arange(n)\n",
    "    mask = [np.all(i%np.arange(2,i//2+1)) for i in num]\n",
    "    return(num[mask])\n",
    "\n",
    "def exPrime(n):\n",
    "    mask = np.full((100,), True)\n",
    "    multiples = [i*j for i in range(2, n//2) for j in range(2,n//i+1) if i*j < n]\n",
    "    mask[multiples] = False\n",
    "    return(np.arange(n)[mask])\n",
    "\n",
    "def eratosthenes(n):\n",
    "    mask = np.full((100,), True)\n",
    "    for i in range(2,int(n**0.5)+1):\n",
    "        if mask[i]:\n",
    "            for j in range(i**2,n,i):\n",
    "                mask[j] = False\n",
    "    return(np.arange(n)[mask])\n",
    "                \n",
    "    \n",
    "print(myPrime(100))\n",
    "print(exPrime(100))\n",
    "print(eratosthenes(100))\n",
    "\n",
    "%timeit myPrime(100)\n",
    "%timeit exPrime(100)\n",
    "%timeit eratosthenes(100)"
   ]
  },
  {
   "cell_type": "markdown",
   "metadata": {},
   "source": [
    "**N.B. the following exercises are meant to be solved only if you are familiar with the numpy random library. If not you can skip them (postponed for one of the next exercise sessions)**\n"
   ]
  },
  {
   "cell_type": "markdown",
   "metadata": {},
   "source": [
    "8\\. Diffusion using random walk\n",
    "\n",
    "Consider a simple random walk process: at each step in time, a walker jumps right or left (+1 or -1) with equal probability. The goal is to find the typical distance from the origin of a random walker after a given amount of time. \n",
    "To do that, let's simulate many walkers and create a 2D array with each walker as a raw and the actual time evolution as columns\n",
    "\n",
    "  * Take 1000 walkers and let them walk for 200 steps\n",
    "  * Use randint to create a 2D array of size walkers x steps with values -1 or 1\n",
    "  * Build the actual walking distances for each walker (i.e. another 2D array \"summing on each raw\")\n",
    "  * Take the square of that 2D array (elementwise)\n",
    "  * Compute the mean of the squared distances at each step (i.e. the mean along the columns)\n",
    "  * Plot the average distances (sqrt(distance\\*\\*2)) as a function of time (step)\n",
    "  \n",
    "Did you get what you expected?"
   ]
  },
  {
   "cell_type": "code",
   "execution_count": 9,
   "metadata": {},
   "outputs": [
    {
     "data": {
      "text/plain": [
       "Text(0, 0.5, 'steps')"
      ]
     },
     "execution_count": 9,
     "metadata": {},
     "output_type": "execute_result"
    },
    {
     "data": {
      "image/png": "[encoded data removed]",
      "text/plain": [
       "<Figure size 432x288 with 1 Axes>"
      ]
     },
     "metadata": {
      "needs_background": "light"
     },
     "output_type": "display_data"
    }
   ],
   "source": [
    "import matplotlib.pyplot as plt\n",
    "\n",
    "%matplotlib inline\n",
    "\n",
    "walkers = 1000\n",
    "steps = 200\n",
    "\n",
    "stepTraj = 2*np.random.randint(0, 2, (steps, walkers)) - 1\n",
    "traj = np.cumsum(stepTraj, axis=0)\n",
    "dist = (np.mean(traj**2, axis=1))**(0.5)\n",
    "\n",
    "# print(stepTraj,traj,dist, sep='\\n\\n\\n\\n')\n",
    "\n",
    "plt.plot(dist)\n",
    "plt.xlabel(\"time\")\n",
    "plt.ylabel(\"steps\")"
   ]
  },
  {
   "cell_type": "markdown",
   "metadata": {},
   "source": [
    "9\\. Analyze a data file \n",
    "  * Download the population of hares, lynxes and carrots at the beginning of the last century.\n",
    "    ```python\n",
    "    ! wget https://www.dropbox.com/s/3vigxoqayo389uc/populations.txt\n",
    "    ```\n",
    "\n",
    "  * Check the content by looking within the file\n",
    "  * Load the data (use an appropriate numpy method) into a 2D array\n",
    "  * Create arrays out of the columns, the arrays being (in order): *year*, *hares*, *lynxes*, *carrots* \n",
    "  * Plot the 3 populations over the years\n",
    "  * Compute the main statistical properties of the dataset (mean, std, correlations, etc.)\n",
    "  * Which species has the highest population each year?\n",
    "\n",
    "Do you feel there is some evident correlation here? [Studies](https://www.enr.gov.nt.ca/en/services/lynx/lynx-snowshoe-hare-cycle) tend to believe so."
   ]
  },
  {
   "cell_type": "code",
   "execution_count": 83,
   "metadata": {},
   "outputs": [
    {
     "data": {
      "image/png": "[encoded data removed]",
      "text/plain": [
       "<Figure size 432x288 with 1 Axes>"
      ]
     },
     "metadata": {
      "needs_background": "light"
     },
     "output_type": "display_data"
    },
    {
     "name": "stdout",
     "output_type": "stream",
     "text": [
      "Statistical properties:\n",
      "\t\t\thares, lynxes, carrots\n",
      "Mean:\t\t [34080.9524 20166.6667 42400.    ]\n",
      "Std Dev:\t [20897.9065 16254.5915  3322.5062]\n",
      "Correlation coefficient between hares & lynxes: 0.07189206073535571\n",
      "Correlation coefficient between hares & carrots: -0.016603777709879402\n",
      "Correlation coefficient between carrots & lynxes: -0.6805771698401617\n",
      "Species with higest population for every year:\n",
      "['1900: carrots', '1901: carrots', '1902: hares', '1903: hares', '1904: lynxes', '1905: lynxes', '1906: carrots', '1907: carrots', '1908: carrots', '1909: carrots', '1910: carrots', '1911: carrots', '1912: hares', '1913: hares', '1914: hares', '1915: lynxes', '1916: carrots', '1917: carrots', '1918: carrots', '1919: carrots', '1920: carrots']\n"
     ]
    }
   ],
   "source": [
    "%precision 4\n",
    "\n",
    "data = np.loadtxt('populations.txt')\n",
    "\n",
    "year, hares, lynxes, carrots = np.hsplit(data, 4)\n",
    "\n",
    "plt.plot(year, hares, label=\"hares\")\n",
    "plt.plot(year, lynxes, label=\"lynxes\")\n",
    "plt.plot(year, carrots, label=\"carrots\")\n",
    "plt.legend()\n",
    "plt.show()\n",
    "\n",
    "means = np.mean(data, axis=0)[1:]\n",
    "stds = np.std(data, axis=0)[1:]\n",
    "\n",
    "print(\"Statistical properties:\\n\\t\\t\\thares, lynxes, carrots\")\n",
    "print(\"Mean:\\t\\t\",means)\n",
    "print(\"Std Dev:\\t\",stds)\n",
    "print(\"Correlation coefficient between hares & lynxes:\",np.corrcoef(hares.T,lynxes.T)[0,1])\n",
    "print(\"Correlation coefficient between hares & carrots:\",np.corrcoef(hares.T,carrots.T)[0,1])\n",
    "print(\"Correlation coefficient between carrots & lynxes:\",np.corrcoef(carrots.T,lynxes.T)[0,1])\n",
    "\n",
    "print(\"Species with higest population for every year:\")\n",
    "\n",
    "species = [\"hares\", \"lynxes\", \"carrots\"]\n",
    "iMaxPop = np.argmax(data, axis=1) - 1\n",
    "maxPop = [species[i] for i in iMaxPop]\n",
    "\n",
    "print([\"{}: {}\".format(int(y),p) for (y,p) in zip(year, maxPop)])"
   ]
  },
  {
   "cell_type": "code",
   "execution_count": null,
   "metadata": {},
   "outputs": [],
   "source": []
  }
 ],
 "metadata": {
  "kernelspec": {
   "display_name": "Python 3 (ipykernel)",
   "language": "python",
   "name": "python3"
  },
  "language_info": {
   "codemirror_mode": {
    "name": "ipython",
    "version": 3
   },
   "file_extension": ".py",
   "mimetype": "text/x-python",
   "name": "python",
   "nbconvert_exporter": "python",
   "pygments_lexer": "ipython3",
   "version": "3.9.12"
  }
 },
 "nbformat": 4,
 "nbformat_minor": 2
}
