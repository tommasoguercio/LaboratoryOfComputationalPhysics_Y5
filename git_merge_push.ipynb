{
 "cells": [
  {
   "cell_type": "markdown",
   "id": "a32a9db5",
   "metadata": {},
   "source": [
    "`git checkout tguercio`\n",
    "\n",
    "`git merge origin/master`\n",
    "\n",
    "`git push origin tguercio`"
   ]
  },
  {
   "cell_type": "code",
   "execution_count": null,
   "id": "d16a6a68",
   "metadata": {},
   "outputs": [],
   "source": []
  }
 ],
 "metadata": {
  "kernelspec": {
   "display_name": "Python 3 (ipykernel)",
   "language": "python",
   "name": "python3"
  },
  "language_info": {
   "codemirror_mode": {
    "name": "ipython",
    "version": 3
   },
   "file_extension": ".py",
   "mimetype": "text/x-python",
   "name": "python",
   "nbconvert_exporter": "python",
   "pygments_lexer": "ipython3",
   "version": "3.9.12"
  }
 },
 "nbformat": 4,
 "nbformat_minor": 5
}
